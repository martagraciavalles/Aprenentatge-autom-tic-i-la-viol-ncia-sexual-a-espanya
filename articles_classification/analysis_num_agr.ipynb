{
 "cells": [
  {
   "cell_type": "code",
   "execution_count": 1,
   "metadata": {},
   "outputs": [
    {
     "name": "stderr",
     "output_type": "stream",
     "text": [
      "2023-06-03 23:03:34.197537: I tensorflow/core/platform/cpu_feature_guard.cc:182] This TensorFlow binary is optimized to use available CPU instructions in performance-critical operations.\n",
      "To enable the following instructions: AVX2 FMA, in other operations, rebuild TensorFlow with the appropriate compiler flags.\n",
      "/Users/martagracia/Library/Python/3.9/lib/python/site-packages/numba/core/decorators.py:262: NumbaDeprecationWarning: numba.generated_jit is deprecated. Please see the documentation at: https://numba.readthedocs.io/en/stable/reference/deprecation.html#deprecation-of-generated-jit for more information and advice on a suitable replacement.\n",
      "  warnings.warn(msg, NumbaDeprecationWarning)\n",
      "/Users/martagracia/Library/Python/3.9/lib/python/site-packages/visions/backends/shared/nan_handling.py:51: NumbaDeprecationWarning: The 'nopython' keyword argument was not supplied to the 'numba.jit' decorator. The implicit default value for this argument is currently False, but it will be changed to True in Numba 0.59.0. See https://numba.readthedocs.io/en/stable/reference/deprecation.html#deprecation-of-object-mode-fall-back-behaviour-when-using-jit for details.\n",
      "  def hasna(x: np.ndarray) -> bool:\n",
      "/var/folders/8y/kdv5k1ks43v38hl9433hbqsr0000gn/T/ipykernel_22807/3494976917.py:7: DeprecationWarning: `import pandas_profiling` is going to be deprecated by April 1st. Please use `import ydata_profiling` instead.\n",
      "  from pandas_profiling import ProfileReport\n"
     ]
    }
   ],
   "source": [
    "#general purpose packages\n",
    "import numpy as np\n",
    "import pandas as pd\n",
    "import tensorflow as tf\n",
    "import matplotlib.pyplot as plt\n",
    "import seaborn as sns\n",
    "from pandas_profiling import ProfileReport\n",
    "\n",
    "#data processing\n",
    "import re, string\n",
    "import nltk\n",
    "import sklearn\n",
    "from sklearn import preprocessing\n",
    "from imblearn.over_sampling import RandomOverSampler\n",
    "from imblearn.under_sampling import RandomUnderSampler\n",
    "from sklearn.model_selection import train_test_split\n",
    "from sklearn.preprocessing import LabelBinarizer\n",
    "\n",
    "\n",
    "#Naive Bayes\n",
    "from sklearn.feature_extraction.text import CountVectorizer\n",
    "from sklearn.feature_extraction.text import TfidfTransformer\n",
    "from sklearn.naive_bayes import MultinomialNB\n",
    "\n",
    "#transformers\n",
    "from transformers import BertTokenizerFast, BertForSequenceClassification\n",
    "from transformers import TFBertModel\n",
    "from transformers import RobertaTokenizerFast\n",
    "from transformers import TFRobertaModel\n",
    "from transformers import RobertaModel, RobertaTokenizer\n",
    "\n",
    "import torch\n",
    "from torch.utils.data import DataLoader, Dataset\n",
    "\n",
    "#sdv\n",
    "from sdv.evaluation import evaluate\n",
    "from sdv.metrics.tabular import CSTest, KSTest, LogisticDetection, SVCDetection\n",
    "from sdv.tabular import CTGAN, TVAE, CopulaGAN, GaussianCopula\n",
    "\n",
    "#keras\n",
    "import tensorflow as tf\n",
    "from tensorflow import keras\n",
    "\n",
    "#metrics\n",
    "from sklearn.metrics import accuracy_score, f1_score\n",
    "from sklearn.metrics import classification_report, confusion_matrix\n",
    "\n",
    "#set seed for reproducibility\n",
    "seed=42"
   ]
  },
  {
   "cell_type": "code",
   "execution_count": 2,
   "metadata": {},
   "outputs": [],
   "source": [
    "import warnings\n",
    "warnings.filterwarnings('ignore')\n",
    "\n",
    "import joblib\n",
    "import re\n",
    "import string\n",
    "\n",
    "from nltk.corpus import stopwords\n",
    "from datetime import datetime\n",
    "from apyori import apriori\n",
    "import lxml.etree as ET\n",
    "import pandas as pd\n",
    "import numpy as np\n",
    "import unidecode\n",
    "import html\n",
    "import os\n",
    "import re\n",
    "\n",
    "from sklearn.datasets import fetch_20newsgroups\n",
    "from sklearn.feature_extraction.text import CountVectorizer\n",
    "from sklearn.metrics import accuracy_score, cohen_kappa_score, f1_score, classification_report\n",
    "from sklearn.model_selection import StratifiedKFold, train_test_split\n",
    "from sklearn.naive_bayes import MultinomialNB\n",
    "\n",
    "# Set display options\n",
    "pd.set_option('display.max_columns', None)\n",
    "pd.set_option('display.max_rows', None)"
   ]
  },
  {
   "attachments": {},
   "cell_type": "markdown",
   "metadata": {},
   "source": [
    "Define paths"
   ]
  },
  {
   "cell_type": "code",
   "execution_count": 3,
   "metadata": {},
   "outputs": [],
   "source": [
    "NEWS_PATH = '../data/news/'"
   ]
  },
  {
   "attachments": {},
   "cell_type": "markdown",
   "metadata": {},
   "source": [
    "# Create data"
   ]
  },
  {
   "cell_type": "code",
   "execution_count": 4,
   "metadata": {},
   "outputs": [],
   "source": [
    "def normalize_string(to_normalize, encoded = False, remove_stopwords = True):\n",
    "    '''\n",
    "    Normalize text given a string\n",
    "    '''\n",
    "    text = str(to_normalize).lower()  # lowering text\n",
    "    if encoded: \n",
    "        text = ' '.join([html.unescape(term) for term in text.split()])\n",
    "    text = unidecode.unidecode(text)\n",
    "\n",
    "    text = re.sub(r'[^\\w\\s]', '', text)  # removing all the punctuations\n",
    "    last_text = text.split()  # tokenize the text\n",
    "\n",
    "    # remove stopwords\n",
    "    stopwords_set = set()\n",
    "    if remove_stopwords: stopwords_set = set(stopwords.words(\"spanish\"))\n",
    "    \n",
    "    last_text = ' '.join([x for x in last_text if (x not in stopwords_set)])\n",
    "    return last_text\n",
    "\n",
    "def listdir_checked(path, unwanted = ['.DS_Store']):\n",
    "    '''\n",
    "    Discard unwanted files or directories when listing the elements in a given path\n",
    "    '''\n",
    "    return (f for f in os.listdir(path) if f not in unwanted)\n",
    "\n",
    "\n",
    "def create_articles_dictionary(NEWS_PATH):\n",
    "    '''\n",
    "    Import articles information.\n",
    "    Articles are stored in directories in the NEWS_PATH.\n",
    "    '''\n",
    "    data = {}               # keys: media, value: list of dictionaries with info about the news articles of the given media\n",
    "    unique_urls = []        # list to store unique urls to discard repeated ones\n",
    "    repeated_data = {}      # store repeated articles following the same format as 'data' dictionary\n",
    "\n",
    "    for year in listdir_checked(NEWS_PATH):\n",
    "        for month in listdir_checked(NEWS_PATH + '/' + year):\n",
    "            for file in listdir_checked(NEWS_PATH + '/' + year + '/' + month):\n",
    "                try:\n",
    "                    full_path = NEWS_PATH + '/' + year + '/' + month + '/' + file\n",
    "                    # Read xml file - info stored following NewsML-G2 format\n",
    "                    root = ET.parse(full_path).getroot()\n",
    "                    # Parse news\n",
    "                    media = file.rsplit('_', 1)[0]\n",
    "                    # Check repeated urls\n",
    "                    url = root.findall(\".//infoSource\")[0].get(\"uri\")\n",
    "                    str_date = root.findall('.//contentMeta')[0].find('contentCreated').text[:10]\n",
    "                    info = {\n",
    "                        'id': file.split(':')[-1].replace('.xml', ''),\n",
    "                        'media': media,\n",
    "                        'publication_date': datetime.strptime(str_date, '%Y-%m-%d'),\n",
    "                        'title': normalize_string(root.findall('.//itemRef')[0].find('title').text, encoded = True, remove_stopwords = False),\n",
    "                        'headline': normalize_string(root.findall(\".//itemRef\")[0].find('description').text.strip(), encoded = True, remove_stopwords = False),\n",
    "                        'article': normalize_string(root.findall('.//itemRef')[1].find('description').text.strip(), encoded = True, remove_stopwords = False),\n",
    "                        'url': url\n",
    "                    }\n",
    "\n",
    "                    if url not in unique_urls:\n",
    "                        unique_urls.append(url)\n",
    "                        try:\n",
    "                            data[media].append(info)\n",
    "                        except:\n",
    "                            data[media] = [info]\n",
    "\n",
    "                    else:\n",
    "                        try:\n",
    "                            repeated_data[media].append(info)\n",
    "                        except:\n",
    "                            repeated_data[media] = [info]\n",
    "                except:\n",
    "                    pass\n",
    "                    \n",
    "    return data, repeated_data\n",
    "\n",
    "\n",
    "def get_data_info(data, dict_key, value):\n",
    "    '''\n",
    "    Aux function to obtain the info of the articles with the given \n",
    "    value for the provided dict_key in data\n",
    "    '''\n",
    "    matching_elements = []\n",
    "    for media, news in data.items():\n",
    "        for article in news:\n",
    "            if article[dict_key] == value:\n",
    "                matching_elements.append(article)\n",
    "    return matching_elements"
   ]
  },
  {
   "cell_type": "code",
   "execution_count": 5,
   "metadata": {},
   "outputs": [],
   "source": [
    "data, repeated_data = create_articles_dictionary(NEWS_PATH)\n",
    "\n",
    "articles_list = []\n",
    "\n",
    "for media in data.keys():\n",
    "    for new in data[media]:\n",
    "        tweet_id = new['id']\n",
    "        title = normalize_string(new['title'])\n",
    "        headline = normalize_string(new['headline'])\n",
    "        url = new['url']\n",
    "        publication_date = new['publication_date']\n",
    "        article = normalize_string(new['article'])\n",
    "        \n",
    "        articles_list.append({'tweet_id': tweet_id, \n",
    "                              'media': media, \n",
    "                              'title': title, \n",
    "                              'headline': headline, \n",
    "                              'url': url, \n",
    "                              'article': article,\n",
    "                              'publication_date': publication_date})\n",
    "\n",
    "articles_df = pd.DataFrame(articles_list)\n",
    "\n",
    "articles_df['tweet_id'] = articles_df['tweet_id'].str.split('_').str[-1]\n",
    "articles_df['media'] = articles_df['media'].str.split('_').str[0]\n",
    "articles_df['tweet_id'] = articles_df['tweet_id'].astype(int)\n",
    "\n",
    "#RENAME SOME MEDIA\n",
    "articles_df['media'] = articles_df['media'].replace({'La': 'LaSER', \n",
    "                                                     'el': 'elPais',\n",
    "                                                     'noticias': 'noticiascuatro',\n",
    "                                                     'publico': 'diarioPublico',\n",
    "                                                     'voz': 'vozpopuli'});"
   ]
  },
  {
   "cell_type": "code",
   "execution_count": 6,
   "metadata": {},
   "outputs": [],
   "source": [
    "articles_df['text'] = articles_df['title'] + ' ' + articles_df['headline'] + ' ' + articles_df['article']"
   ]
  },
  {
   "cell_type": "code",
   "execution_count": 7,
   "metadata": {},
   "outputs": [
    {
     "data": {
      "text/html": [
       "<div>\n",
       "<style scoped>\n",
       "    .dataframe tbody tr th:only-of-type {\n",
       "        vertical-align: middle;\n",
       "    }\n",
       "\n",
       "    .dataframe tbody tr th {\n",
       "        vertical-align: top;\n",
       "    }\n",
       "\n",
       "    .dataframe thead th {\n",
       "        text-align: right;\n",
       "    }\n",
       "</style>\n",
       "<table border=\"1\" class=\"dataframe\">\n",
       "  <thead>\n",
       "    <tr style=\"text-align: right;\">\n",
       "      <th></th>\n",
       "      <th>tweet_id</th>\n",
       "      <th>media</th>\n",
       "      <th>title</th>\n",
       "      <th>headline</th>\n",
       "      <th>url</th>\n",
       "      <th>article</th>\n",
       "      <th>publication_date</th>\n",
       "      <th>text</th>\n",
       "    </tr>\n",
       "  </thead>\n",
       "  <tbody>\n",
       "    <tr>\n",
       "      <th>0</th>\n",
       "      <td>1212203735650328577</td>\n",
       "      <td>20m</td>\n",
       "      <td>name britanica detenida falso testimonio tras ...</td>\n",
       "      <td>name joven britanica 19 anos mes julio detenida</td>\n",
       "      <td>https://www.20minutos.es/noticia/4102525/0/cul...</td>\n",
       "      <td>name joven britanica 19 anos mes julio detenid...</td>\n",
       "      <td>2019-12-31</td>\n",
       "      <td>name britanica detenida falso testimonio tras ...</td>\n",
       "    </tr>\n",
       "    <tr>\n",
       "      <th>1</th>\n",
       "      <td>1212467642428280832</td>\n",
       "      <td>20m</td>\n",
       "      <td>name parto nina 13 anos violada padre</td>\n",
       "      <td>name name nina brasilena 13 anos fallecio comi...</td>\n",
       "      <td>https://www.20minutos.es/noticia/4103250/0/mue...</td>\n",
       "      <td>name name nina brasilena 13 anos fallecio comi...</td>\n",
       "      <td>2020-01-01</td>\n",
       "      <td>name parto nina 13 anos violada padre name nam...</td>\n",
       "    </tr>\n",
       "    <tr>\n",
       "      <th>2</th>\n",
       "      <td>1212826760234127360</td>\n",
       "      <td>20m</td>\n",
       "      <td>name 3 jovenes acusados violar 3 hermanas esta...</td>\n",
       "      <td>name name name detenido jueves tres jovenes ac...</td>\n",
       "      <td>https://www.20minutos.es/noticia/4104199/0/det...</td>\n",
       "      <td>name name name detenido jueves tres jovenes ac...</td>\n",
       "      <td>2020-01-02</td>\n",
       "      <td>name 3 jovenes acusados violar 3 hermanas esta...</td>\n",
       "    </tr>\n",
       "    <tr>\n",
       "      <th>3</th>\n",
       "      <td>1213232973715267584</td>\n",
       "      <td>20m</td>\n",
       "      <td>name claves name juicio name name abusos sexua...</td>\n",
       "      <td>name juicio supuestos abusos sexuales todopode...</td>\n",
       "      <td>https://www.20minutos.es/noticia/4105188/0/cla...</td>\n",
       "      <td>name juicio supuestos abusos sexuales todopode...</td>\n",
       "      <td>2020-01-03</td>\n",
       "      <td>name claves name juicio name name abusos sexua...</td>\n",
       "    </tr>\n",
       "    <tr>\n",
       "      <th>4</th>\n",
       "      <td>1213348259076415488</td>\n",
       "      <td>20m</td>\n",
       "      <td>name name name investiga escritor frances name...</td>\n",
       "      <td>name name name abierto viernes investigacion e...</td>\n",
       "      <td>https://www.20minutos.es/noticia/4104916/0/fra...</td>\n",
       "      <td>name name name abierto viernes investigacion e...</td>\n",
       "      <td>2020-01-03</td>\n",
       "      <td>name name name investiga escritor frances name...</td>\n",
       "    </tr>\n",
       "  </tbody>\n",
       "</table>\n",
       "</div>"
      ],
      "text/plain": [
       "              tweet_id media  \\\n",
       "0  1212203735650328577   20m   \n",
       "1  1212467642428280832   20m   \n",
       "2  1212826760234127360   20m   \n",
       "3  1213232973715267584   20m   \n",
       "4  1213348259076415488   20m   \n",
       "\n",
       "                                               title  \\\n",
       "0  name britanica detenida falso testimonio tras ...   \n",
       "1              name parto nina 13 anos violada padre   \n",
       "2  name 3 jovenes acusados violar 3 hermanas esta...   \n",
       "3  name claves name juicio name name abusos sexua...   \n",
       "4  name name name investiga escritor frances name...   \n",
       "\n",
       "                                            headline  \\\n",
       "0    name joven britanica 19 anos mes julio detenida   \n",
       "1  name name nina brasilena 13 anos fallecio comi...   \n",
       "2  name name name detenido jueves tres jovenes ac...   \n",
       "3  name juicio supuestos abusos sexuales todopode...   \n",
       "4  name name name abierto viernes investigacion e...   \n",
       "\n",
       "                                                 url  \\\n",
       "0  https://www.20minutos.es/noticia/4102525/0/cul...   \n",
       "1  https://www.20minutos.es/noticia/4103250/0/mue...   \n",
       "2  https://www.20minutos.es/noticia/4104199/0/det...   \n",
       "3  https://www.20minutos.es/noticia/4105188/0/cla...   \n",
       "4  https://www.20minutos.es/noticia/4104916/0/fra...   \n",
       "\n",
       "                                             article publication_date  \\\n",
       "0  name joven britanica 19 anos mes julio detenid...       2019-12-31   \n",
       "1  name name nina brasilena 13 anos fallecio comi...       2020-01-01   \n",
       "2  name name name detenido jueves tres jovenes ac...       2020-01-02   \n",
       "3  name juicio supuestos abusos sexuales todopode...       2020-01-03   \n",
       "4  name name name abierto viernes investigacion e...       2020-01-03   \n",
       "\n",
       "                                                text  \n",
       "0  name britanica detenida falso testimonio tras ...  \n",
       "1  name parto nina 13 anos violada padre name nam...  \n",
       "2  name 3 jovenes acusados violar 3 hermanas esta...  \n",
       "3  name claves name juicio name name abusos sexua...  \n",
       "4  name name name investiga escritor frances name...  "
      ]
     },
     "execution_count": 7,
     "metadata": {},
     "output_type": "execute_result"
    }
   ],
   "source": [
    "articles_df.head()"
   ]
  },
  {
   "attachments": {},
   "cell_type": "markdown",
   "metadata": {},
   "source": [
    "# NUM. AGRESORES"
   ]
  },
  {
   "cell_type": "code",
   "execution_count": 8,
   "metadata": {},
   "outputs": [
    {
     "data": {
      "text/html": [
       "<div>\n",
       "<style scoped>\n",
       "    .dataframe tbody tr th:only-of-type {\n",
       "        vertical-align: middle;\n",
       "    }\n",
       "\n",
       "    .dataframe tbody tr th {\n",
       "        vertical-align: top;\n",
       "    }\n",
       "\n",
       "    .dataframe thead th {\n",
       "        text-align: right;\n",
       "    }\n",
       "</style>\n",
       "<table border=\"1\" class=\"dataframe\">\n",
       "  <thead>\n",
       "    <tr style=\"text-align: right;\">\n",
       "      <th></th>\n",
       "      <th>tweet_id</th>\n",
       "      <th>media</th>\n",
       "      <th>title</th>\n",
       "      <th>headline</th>\n",
       "      <th>url</th>\n",
       "      <th>article</th>\n",
       "      <th>publication_date</th>\n",
       "      <th>text</th>\n",
       "      <th>CONOCIDO</th>\n",
       "      <th>PAREJA/EX</th>\n",
       "      <th>FAMILIAR</th>\n",
       "      <th>NUM. AGR</th>\n",
       "    </tr>\n",
       "  </thead>\n",
       "  <tbody>\n",
       "    <tr>\n",
       "      <th>0</th>\n",
       "      <td>1212203735650328577</td>\n",
       "      <td>20m</td>\n",
       "      <td>name britanica detenida falso testimonio tras ...</td>\n",
       "      <td>name joven britanica 19 anos mes julio detenida</td>\n",
       "      <td>https://www.20minutos.es/noticia/4102525/0/cul...</td>\n",
       "      <td>name joven britanica 19 anos mes julio detenid...</td>\n",
       "      <td>2019-12-31</td>\n",
       "      <td>name britanica detenida falso testimonio tras ...</td>\n",
       "      <td>0</td>\n",
       "      <td>0</td>\n",
       "      <td>0</td>\n",
       "      <td>1</td>\n",
       "    </tr>\n",
       "    <tr>\n",
       "      <th>1</th>\n",
       "      <td>1212467642428280832</td>\n",
       "      <td>20m</td>\n",
       "      <td>name parto nina 13 anos violada padre</td>\n",
       "      <td>name name nina brasilena 13 anos fallecio comi...</td>\n",
       "      <td>https://www.20minutos.es/noticia/4103250/0/mue...</td>\n",
       "      <td>name name nina brasilena 13 anos fallecio comi...</td>\n",
       "      <td>2020-01-01</td>\n",
       "      <td>name parto nina 13 anos violada padre name nam...</td>\n",
       "      <td>1</td>\n",
       "      <td>0</td>\n",
       "      <td>1</td>\n",
       "      <td>0</td>\n",
       "    </tr>\n",
       "    <tr>\n",
       "      <th>2</th>\n",
       "      <td>1212826760234127360</td>\n",
       "      <td>20m</td>\n",
       "      <td>name 3 jovenes acusados violar 3 hermanas esta...</td>\n",
       "      <td>name name name detenido jueves tres jovenes ac...</td>\n",
       "      <td>https://www.20minutos.es/noticia/4104199/0/det...</td>\n",
       "      <td>name name name detenido jueves tres jovenes ac...</td>\n",
       "      <td>2020-01-02</td>\n",
       "      <td>name 3 jovenes acusados violar 3 hermanas esta...</td>\n",
       "      <td>0</td>\n",
       "      <td>0</td>\n",
       "      <td>0</td>\n",
       "      <td>1</td>\n",
       "    </tr>\n",
       "    <tr>\n",
       "      <th>3</th>\n",
       "      <td>1213232973715267584</td>\n",
       "      <td>20m</td>\n",
       "      <td>name claves name juicio name name abusos sexua...</td>\n",
       "      <td>name juicio supuestos abusos sexuales todopode...</td>\n",
       "      <td>https://www.20minutos.es/noticia/4105188/0/cla...</td>\n",
       "      <td>name juicio supuestos abusos sexuales todopode...</td>\n",
       "      <td>2020-01-03</td>\n",
       "      <td>name claves name juicio name name abusos sexua...</td>\n",
       "      <td>1</td>\n",
       "      <td>0</td>\n",
       "      <td>0</td>\n",
       "      <td>2</td>\n",
       "    </tr>\n",
       "    <tr>\n",
       "      <th>4</th>\n",
       "      <td>1213348259076415488</td>\n",
       "      <td>20m</td>\n",
       "      <td>name name name investiga escritor frances name...</td>\n",
       "      <td>name name name abierto viernes investigacion e...</td>\n",
       "      <td>https://www.20minutos.es/noticia/4104916/0/fra...</td>\n",
       "      <td>name name name abierto viernes investigacion e...</td>\n",
       "      <td>2020-01-03</td>\n",
       "      <td>name name name investiga escritor frances name...</td>\n",
       "      <td>0</td>\n",
       "      <td>0</td>\n",
       "      <td>0</td>\n",
       "      <td>0</td>\n",
       "    </tr>\n",
       "  </tbody>\n",
       "</table>\n",
       "</div>"
      ],
      "text/plain": [
       "              tweet_id media  \\\n",
       "0  1212203735650328577   20m   \n",
       "1  1212467642428280832   20m   \n",
       "2  1212826760234127360   20m   \n",
       "3  1213232973715267584   20m   \n",
       "4  1213348259076415488   20m   \n",
       "\n",
       "                                               title  \\\n",
       "0  name britanica detenida falso testimonio tras ...   \n",
       "1              name parto nina 13 anos violada padre   \n",
       "2  name 3 jovenes acusados violar 3 hermanas esta...   \n",
       "3  name claves name juicio name name abusos sexua...   \n",
       "4  name name name investiga escritor frances name...   \n",
       "\n",
       "                                            headline  \\\n",
       "0    name joven britanica 19 anos mes julio detenida   \n",
       "1  name name nina brasilena 13 anos fallecio comi...   \n",
       "2  name name name detenido jueves tres jovenes ac...   \n",
       "3  name juicio supuestos abusos sexuales todopode...   \n",
       "4  name name name abierto viernes investigacion e...   \n",
       "\n",
       "                                                 url  \\\n",
       "0  https://www.20minutos.es/noticia/4102525/0/cul...   \n",
       "1  https://www.20minutos.es/noticia/4103250/0/mue...   \n",
       "2  https://www.20minutos.es/noticia/4104199/0/det...   \n",
       "3  https://www.20minutos.es/noticia/4105188/0/cla...   \n",
       "4  https://www.20minutos.es/noticia/4104916/0/fra...   \n",
       "\n",
       "                                             article publication_date  \\\n",
       "0  name joven britanica 19 anos mes julio detenid...       2019-12-31   \n",
       "1  name name nina brasilena 13 anos fallecio comi...       2020-01-01   \n",
       "2  name name name detenido jueves tres jovenes ac...       2020-01-02   \n",
       "3  name juicio supuestos abusos sexuales todopode...       2020-01-03   \n",
       "4  name name name abierto viernes investigacion e...       2020-01-03   \n",
       "\n",
       "                                                text  CONOCIDO  PAREJA/EX  \\\n",
       "0  name britanica detenida falso testimonio tras ...         0          0   \n",
       "1  name parto nina 13 anos violada padre name nam...         1          0   \n",
       "2  name 3 jovenes acusados violar 3 hermanas esta...         0          0   \n",
       "3  name claves name juicio name name abusos sexua...         1          0   \n",
       "4  name name name investiga escritor frances name...         0          0   \n",
       "\n",
       "   FAMILIAR  NUM. AGR  \n",
       "0         0         1  \n",
       "1         1         0  \n",
       "2         0         1  \n",
       "3         0         2  \n",
       "4         0         0  "
      ]
     },
     "execution_count": 8,
     "metadata": {},
     "output_type": "execute_result"
    }
   ],
   "source": [
    "label_df = pd.read_csv('manual_labeling_3.csv')\n",
    "label_df = label_df.drop_duplicates(subset=['ID'])\n",
    "label_df['ID'] = label_df['ID'].astype(str)\n",
    "articles_df['tweet_id'] = articles_df['tweet_id'].astype(str)\n",
    "# Concatenar los DataFrames basados en las columnas 'tweet_id' y 'ID'\n",
    "train_label_df = pd.concat([articles_df.set_index('tweet_id'), label_df.set_index('ID')], axis=1, join='inner').reset_index()\n",
    "train_label_df.rename(columns={'index': 'tweet_id'}, inplace=True)\n",
    "\n",
    "train_label_df.head()"
   ]
  },
  {
   "cell_type": "code",
   "execution_count": 60,
   "metadata": {},
   "outputs": [
    {
     "data": {
      "text/plain": [
       "0    539\n",
       "1    219\n",
       "2    126\n",
       "Name: NUM. AGR, dtype: int64"
      ]
     },
     "execution_count": 60,
     "metadata": {},
     "output_type": "execute_result"
    }
   ],
   "source": [
    "train_label_df['NUM. AGR'].value_counts()"
   ]
  },
  {
   "cell_type": "code",
   "execution_count": 9,
   "metadata": {},
   "outputs": [],
   "source": [
    "agr_train, agr_test = train_test_split(train_label_df, test_size=0.2, random_state=seed)"
   ]
  },
  {
   "cell_type": "code",
   "execution_count": 10,
   "metadata": {},
   "outputs": [],
   "source": [
    "# train\n",
    "X_train = agr_train['text']\n",
    "y_train = agr_train['NUM. AGR']\n",
    "agr_train = agr_train[['text', 'NUM. AGR']]\n",
    "\n",
    "# test\n",
    "X_test = agr_test['text']\n",
    "y_test = agr_test['NUM. AGR']\n",
    "agr_test = agr_test[['text', 'NUM. AGR']]"
   ]
  },
  {
   "cell_type": "code",
   "execution_count": 11,
   "metadata": {},
   "outputs": [],
   "source": [
    "agr_train.reset_index(drop=True, inplace=True)\n",
    "agr_test.reset_index(drop=True, inplace=True)"
   ]
  },
  {
   "cell_type": "code",
   "execution_count": 12,
   "metadata": {},
   "outputs": [
    {
     "data": {
      "text/plain": [
       "0    430\n",
       "1    182\n",
       "2     95\n",
       "Name: NUM. AGR, dtype: int64"
      ]
     },
     "execution_count": 12,
     "metadata": {},
     "output_type": "execute_result"
    }
   ],
   "source": [
    "agr_train['NUM. AGR'].value_counts()"
   ]
  },
  {
   "attachments": {},
   "cell_type": "markdown",
   "metadata": {},
   "source": [
    "# Labeled"
   ]
  },
  {
   "attachments": {},
   "cell_type": "markdown",
   "metadata": {},
   "source": [
    "IMPORT ARTICLES LABELED MANUALLY"
   ]
  },
  {
   "attachments": {},
   "cell_type": "markdown",
   "metadata": {},
   "source": [
    "### Synthetic Data Generation: TVAE and CTGAN Models"
   ]
  },
  {
   "cell_type": "code",
   "execution_count": 17,
   "metadata": {},
   "outputs": [],
   "source": [
    "model_tvae = TVAE()\n",
    "model_ctgan = CTGAN()"
   ]
  },
  {
   "cell_type": "code",
   "execution_count": 18,
   "metadata": {},
   "outputs": [
    {
     "data": {
      "text/html": [
       "<div>\n",
       "<style scoped>\n",
       "    .dataframe tbody tr th:only-of-type {\n",
       "        vertical-align: middle;\n",
       "    }\n",
       "\n",
       "    .dataframe tbody tr th {\n",
       "        vertical-align: top;\n",
       "    }\n",
       "\n",
       "    .dataframe thead th {\n",
       "        text-align: right;\n",
       "    }\n",
       "</style>\n",
       "<table border=\"1\" class=\"dataframe\">\n",
       "  <thead>\n",
       "    <tr style=\"text-align: right;\">\n",
       "      <th></th>\n",
       "      <th>text</th>\n",
       "      <th>NUM. AGR</th>\n",
       "    </tr>\n",
       "  </thead>\n",
       "  <tbody>\n",
       "    <tr>\n",
       "      <th>0</th>\n",
       "      <td>name dos menores posible violacion grupal meno...</td>\n",
       "      <td>1</td>\n",
       "    </tr>\n",
       "    <tr>\n",
       "      <th>1</th>\n",
       "      <td>name seleccion femenina name denuncia abusos n...</td>\n",
       "      <td>0</td>\n",
       "    </tr>\n",
       "    <tr>\n",
       "      <th>2</th>\n",
       "      <td>name hombre ofrecia 100 euros menores cambio f...</td>\n",
       "      <td>0</td>\n",
       "    </tr>\n",
       "    <tr>\n",
       "      <th>3</th>\n",
       "      <td>name presunto autor agresion sexual joven name...</td>\n",
       "      <td>0</td>\n",
       "    </tr>\n",
       "    <tr>\n",
       "      <th>4</th>\n",
       "      <td>juicio colgar name video pareja manteniendo re...</td>\n",
       "      <td>0</td>\n",
       "    </tr>\n",
       "  </tbody>\n",
       "</table>\n",
       "</div>"
      ],
      "text/plain": [
       "                                                text  NUM. AGR\n",
       "0  name dos menores posible violacion grupal meno...         1\n",
       "1  name seleccion femenina name denuncia abusos n...         0\n",
       "2  name hombre ofrecia 100 euros menores cambio f...         0\n",
       "3  name presunto autor agresion sexual joven name...         0\n",
       "4  juicio colgar name video pareja manteniendo re...         0"
      ]
     },
     "execution_count": 18,
     "metadata": {},
     "output_type": "execute_result"
    }
   ],
   "source": [
    "model_tvae.fit(agr_train)\n",
    "new_data_tvae = model_tvae.sample(agr_train.shape[0])\n",
    "new_data_tvae.head()"
   ]
  },
  {
   "cell_type": "code",
   "execution_count": 19,
   "metadata": {},
   "outputs": [
    {
     "data": {
      "text/html": [
       "<div>\n",
       "<style scoped>\n",
       "    .dataframe tbody tr th:only-of-type {\n",
       "        vertical-align: middle;\n",
       "    }\n",
       "\n",
       "    .dataframe tbody tr th {\n",
       "        vertical-align: top;\n",
       "    }\n",
       "\n",
       "    .dataframe thead th {\n",
       "        text-align: right;\n",
       "    }\n",
       "</style>\n",
       "<table border=\"1\" class=\"dataframe\">\n",
       "  <thead>\n",
       "    <tr style=\"text-align: right;\">\n",
       "      <th></th>\n",
       "      <th>text</th>\n",
       "      <th>NUM. AGR</th>\n",
       "    </tr>\n",
       "  </thead>\n",
       "  <tbody>\n",
       "    <tr>\n",
       "      <th>0</th>\n",
       "      <td>name internos name dan paliza preso asesinar n...</td>\n",
       "      <td>0</td>\n",
       "    </tr>\n",
       "    <tr>\n",
       "      <th>1</th>\n",
       "      <td>name mujer name nieta carreras caballos name n...</td>\n",
       "      <td>1</td>\n",
       "    </tr>\n",
       "    <tr>\n",
       "      <th>2</th>\n",
       "      <td>prision detenidos name presunta agresion sexua...</td>\n",
       "      <td>0</td>\n",
       "    </tr>\n",
       "    <tr>\n",
       "      <th>3</th>\n",
       "      <td>name tres personas name explotar sexualmente m...</td>\n",
       "      <td>0</td>\n",
       "    </tr>\n",
       "    <tr>\n",
       "      <th>4</th>\n",
       "      <td>name gobierno socialista name sigue guardando ...</td>\n",
       "      <td>0</td>\n",
       "    </tr>\n",
       "  </tbody>\n",
       "</table>\n",
       "</div>"
      ],
      "text/plain": [
       "                                                text  NUM. AGR\n",
       "0  name internos name dan paliza preso asesinar n...         0\n",
       "1  name mujer name nieta carreras caballos name n...         1\n",
       "2  prision detenidos name presunta agresion sexua...         0\n",
       "3  name tres personas name explotar sexualmente m...         0\n",
       "4  name gobierno socialista name sigue guardando ...         0"
      ]
     },
     "execution_count": 19,
     "metadata": {},
     "output_type": "execute_result"
    }
   ],
   "source": [
    "model_ctgan.fit(agr_train)\n",
    "new_data_ctgan = model_ctgan.sample(agr_train.shape[0])\n",
    "new_data_ctgan.head()"
   ]
  },
  {
   "cell_type": "code",
   "execution_count": 20,
   "metadata": {},
   "outputs": [
    {
     "data": {
      "text/plain": [
       "0    416\n",
       "2    180\n",
       "1    111\n",
       "Name: NUM. AGR, dtype: int64"
      ]
     },
     "execution_count": 20,
     "metadata": {},
     "output_type": "execute_result"
    }
   ],
   "source": [
    "new_data_ctgan['NUM. AGR'].value_counts()"
   ]
  },
  {
   "attachments": {},
   "cell_type": "markdown",
   "metadata": {},
   "source": [
    "Evaluation of the model"
   ]
  },
  {
   "cell_type": "code",
   "execution_count": 21,
   "metadata": {},
   "outputs": [],
   "source": [
    "metrics = [\"CSTest\", \"KSTest\"]"
   ]
  },
  {
   "cell_type": "code",
   "execution_count": 22,
   "metadata": {},
   "outputs": [
    {
     "data": {
      "text/plain": [
       "0.662000114132077"
      ]
     },
     "execution_count": 22,
     "metadata": {},
     "output_type": "execute_result"
    }
   ],
   "source": [
    "evaluate(\n",
    "    new_data_tvae,\n",
    "    agr_train,\n",
    ")"
   ]
  },
  {
   "cell_type": "code",
   "execution_count": 23,
   "metadata": {},
   "outputs": [
    {
     "data": {
      "text/plain": [
       "0.9547554374508884"
      ]
     },
     "execution_count": 23,
     "metadata": {},
     "output_type": "execute_result"
    }
   ],
   "source": [
    "evaluate(\n",
    "    new_data_ctgan,\n",
    "    agr_train\n",
    ")"
   ]
  },
  {
   "cell_type": "code",
   "execution_count": 24,
   "metadata": {},
   "outputs": [],
   "source": [
    "new_data_ctgan.to_csv('synthetic_data_ctgan_agr.csv')"
   ]
  },
  {
   "attachments": {},
   "cell_type": "markdown",
   "metadata": {},
   "source": [
    "ctgan modelos mas de tablas, modelo tvae mas de texto libre"
   ]
  },
  {
   "attachments": {},
   "cell_type": "markdown",
   "metadata": {},
   "source": [
    "### Juntamos datos reales y sinteticos"
   ]
  },
  {
   "cell_type": "code",
   "execution_count": 25,
   "metadata": {},
   "outputs": [],
   "source": [
    "data_train_all = pd.concat([agr_train, new_data_ctgan], ignore_index=True)"
   ]
  },
  {
   "cell_type": "code",
   "execution_count": 26,
   "metadata": {},
   "outputs": [],
   "source": [
    "X_train = data_train_all['text']\n",
    "y_train = data_train_all['NUM. AGR']"
   ]
  },
  {
   "cell_type": "code",
   "execution_count": 27,
   "metadata": {},
   "outputs": [
    {
     "data": {
      "text/plain": [
       "0    846\n",
       "1    293\n",
       "2    275\n",
       "Name: NUM. AGR, dtype: int64"
      ]
     },
     "execution_count": 27,
     "metadata": {},
     "output_type": "execute_result"
    }
   ],
   "source": [
    "y_train.value_counts()"
   ]
  },
  {
   "attachments": {},
   "cell_type": "markdown",
   "metadata": {},
   "source": [
    "We note that the three classes are imbalanced. We will proceed with oversampling the train test, to remove bias towards the majority classes."
   ]
  },
  {
   "attachments": {},
   "cell_type": "markdown",
   "metadata": {},
   "source": [
    "Tenemos los datos super unbalanced, aplicaremos oversampling\n",
    "\n",
    "\"Si el rendimiento y la capacidad de detección de la clase minoritaria son importantes, puede ser recomendable utilizar oversampling para generar más instancias sintéticas de la clase minoritaria y equilibrar la distribución de clases. Esto permitiría al modelo aprender y capturar mejor las características de la clase minoritaria.\""
   ]
  },
  {
   "cell_type": "code",
   "execution_count": 28,
   "metadata": {},
   "outputs": [],
   "source": [
    "# Aplicar undersampling en la clase mayoritaria (clase 0)\n",
    "rus = RandomUnderSampler(sampling_strategy={0: 600})\n",
    "undersampled_x, undersampled_y = rus.fit_resample(np.array(X_train).reshape(-1, 1), np.array(y_train).reshape(-1, 1))\n",
    "\n",
    "# Aplicar oversampling en las clases minoritarias (clases 1, 2 y 3)\n",
    "ros = RandomOverSampler(sampling_strategy={2: 400, 1: 400})\n",
    "oversampled_x, oversampled_y = ros.fit_resample(np.array(undersampled_x).reshape(-1, 1), np.array(undersampled_y).reshape(-1, 1))\n",
    "train_data = pd.DataFrame(list(zip([x[0] for x in oversampled_x], oversampled_y)), columns=['text', 'NUM. AGR'])"
   ]
  },
  {
   "cell_type": "code",
   "execution_count": 29,
   "metadata": {},
   "outputs": [
    {
     "data": {
      "text/plain": [
       "0    600\n",
       "1    400\n",
       "2    400\n",
       "Name: NUM. AGR, dtype: int64"
      ]
     },
     "execution_count": 29,
     "metadata": {},
     "output_type": "execute_result"
    }
   ],
   "source": [
    "train_data['NUM. AGR'].value_counts()"
   ]
  },
  {
   "cell_type": "code",
   "execution_count": 30,
   "metadata": {},
   "outputs": [
    {
     "data": {
      "text/html": [
       "<div>\n",
       "<style scoped>\n",
       "    .dataframe tbody tr th:only-of-type {\n",
       "        vertical-align: middle;\n",
       "    }\n",
       "\n",
       "    .dataframe tbody tr th {\n",
       "        vertical-align: top;\n",
       "    }\n",
       "\n",
       "    .dataframe thead th {\n",
       "        text-align: right;\n",
       "    }\n",
       "</style>\n",
       "<table border=\"1\" class=\"dataframe\">\n",
       "  <thead>\n",
       "    <tr style=\"text-align: right;\">\n",
       "      <th></th>\n",
       "      <th>text</th>\n",
       "      <th>NUM. AGR</th>\n",
       "    </tr>\n",
       "  </thead>\n",
       "  <tbody>\n",
       "    <tr>\n",
       "      <th>0</th>\n",
       "      <td>name 27 anos prision hombre sometida 40 dias m...</td>\n",
       "      <td>0</td>\n",
       "    </tr>\n",
       "    <tr>\n",
       "      <th>1</th>\n",
       "      <td>name abusos sexuales menores empezaran prescri...</td>\n",
       "      <td>0</td>\n",
       "    </tr>\n",
       "    <tr>\n",
       "      <th>2</th>\n",
       "      <td>name name abusar name dejar embarazada nieta p...</td>\n",
       "      <td>0</td>\n",
       "    </tr>\n",
       "    <tr>\n",
       "      <th>3</th>\n",
       "      <td>hombre apunala pareja name name entrega volunt...</td>\n",
       "      <td>0</td>\n",
       "    </tr>\n",
       "    <tr>\n",
       "      <th>4</th>\n",
       "      <td>name anciano dos anos carcel abusar sexualment...</td>\n",
       "      <td>0</td>\n",
       "    </tr>\n",
       "  </tbody>\n",
       "</table>\n",
       "</div>"
      ],
      "text/plain": [
       "                                                text  NUM. AGR\n",
       "0  name 27 anos prision hombre sometida 40 dias m...         0\n",
       "1  name abusos sexuales menores empezaran prescri...         0\n",
       "2  name name abusar name dejar embarazada nieta p...         0\n",
       "3  hombre apunala pareja name name entrega volunt...         0\n",
       "4  name anciano dos anos carcel abusar sexualment...         0"
      ]
     },
     "execution_count": 30,
     "metadata": {},
     "output_type": "execute_result"
    }
   ],
   "source": [
    "train_data.head()"
   ]
  },
  {
   "attachments": {},
   "cell_type": "markdown",
   "metadata": {},
   "source": [
    "One hot encoding in Train, Val and Test"
   ]
  },
  {
   "cell_type": "code",
   "execution_count": 31,
   "metadata": {},
   "outputs": [],
   "source": [
    "ohe = preprocessing.OneHotEncoder()\n",
    "y_train_ohe = ohe.fit_transform(np.array(train_data['NUM. AGR']).reshape(-1, 1)).toarray()\n",
    "y_test_ohe = ohe.fit_transform(np.array(agr_test['NUM. AGR']).reshape(-1, 1)).toarray()"
   ]
  },
  {
   "attachments": {},
   "cell_type": "markdown",
   "metadata": {},
   "source": [
    "# tokenizer"
   ]
  },
  {
   "attachments": {},
   "cell_type": "markdown",
   "metadata": {},
   "source": [
    "First, we import the BERT tokenizer."
   ]
  },
  {
   "cell_type": "code",
   "execution_count": 32,
   "metadata": {},
   "outputs": [],
   "source": [
    "tokenizer = BertTokenizerFast.from_pretrained('dccuchile/bert-base-spanish-wwm-uncased')"
   ]
  },
  {
   "cell_type": "code",
   "execution_count": 33,
   "metadata": {},
   "outputs": [],
   "source": [
    "token_lens = []\n",
    "\n",
    "for txt in train_data['text'].values:\n",
    "    tokens = tokenizer.encode(txt, max_length=512, truncation=True)\n",
    "    token_lens.append(len(tokens))\n",
    "    \n",
    "max_len=np.max(token_lens)"
   ]
  },
  {
   "cell_type": "code",
   "execution_count": 34,
   "metadata": {},
   "outputs": [
    {
     "name": "stdout",
     "output_type": "stream",
     "text": [
      "MAX TOKENIZED SENTENCE LENGTH: 512\n"
     ]
    }
   ],
   "source": [
    "print(f\"MAX TOKENIZED SENTENCE LENGTH: {max_len}\")"
   ]
  },
  {
   "cell_type": "code",
   "execution_count": 35,
   "metadata": {},
   "outputs": [],
   "source": [
    "train_data['token_lens'] = token_lens"
   ]
  },
  {
   "cell_type": "code",
   "execution_count": 36,
   "metadata": {},
   "outputs": [
    {
     "data": {
      "text/plain": [
       "512    208\n",
       "249     16\n",
       "182     14\n",
       "202     14\n",
       "442     14\n",
       "250     13\n",
       "367     12\n",
       "464     12\n",
       "321     12\n",
       "227     12\n",
       "262     11\n",
       "275     11\n",
       "201     11\n",
       "270     10\n",
       "259     10\n",
       "273     10\n",
       "204     10\n",
       "288      9\n",
       "456      9\n",
       "159      9\n",
       "167      9\n",
       "212      9\n",
       "166      9\n",
       "144      9\n",
       "208      9\n",
       "416      8\n",
       "152      8\n",
       "319      8\n",
       "492      8\n",
       "345      8\n",
       "206      8\n",
       "256      8\n",
       "328      8\n",
       "194      8\n",
       "219      8\n",
       "123      8\n",
       "408      7\n",
       "350      7\n",
       "138      7\n",
       "196      7\n",
       "170      7\n",
       "248      7\n",
       "303      7\n",
       "329      7\n",
       "378      7\n",
       "165      7\n",
       "180      7\n",
       "358      7\n",
       "244      7\n",
       "384      7\n",
       "284      7\n",
       "265      7\n",
       "336      7\n",
       "334      7\n",
       "157      7\n",
       "348      7\n",
       "175      7\n",
       "122      7\n",
       "252      6\n",
       "155      6\n",
       "361      6\n",
       "370      6\n",
       "69       6\n",
       "68       6\n",
       "230      6\n",
       "210      6\n",
       "209      6\n",
       "120      6\n",
       "505      6\n",
       "298      6\n",
       "147      6\n",
       "296      6\n",
       "187      5\n",
       "349      5\n",
       "424      5\n",
       "422      5\n",
       "389      5\n",
       "198      5\n",
       "281      5\n",
       "246      5\n",
       "277      5\n",
       "253      5\n",
       "362      5\n",
       "139      5\n",
       "186      5\n",
       "171      5\n",
       "325      5\n",
       "278      5\n",
       "451      5\n",
       "131      5\n",
       "450      5\n",
       "322      5\n",
       "479      5\n",
       "174      5\n",
       "237      5\n",
       "355      5\n",
       "324      5\n",
       "251      5\n",
       "511      5\n",
       "229      5\n",
       "381      5\n",
       "458      5\n",
       "320      5\n",
       "243      4\n",
       "335      4\n",
       "145      4\n",
       "153      4\n",
       "307      4\n",
       "191      4\n",
       "140      4\n",
       "407      4\n",
       "347      4\n",
       "409      4\n",
       "342      4\n",
       "172      4\n",
       "197      4\n",
       "431      4\n",
       "315      4\n",
       "373      4\n",
       "459      4\n",
       "449      4\n",
       "391      4\n",
       "323      4\n",
       "255      4\n",
       "149      4\n",
       "354      4\n",
       "365      4\n",
       "78       4\n",
       "207      4\n",
       "266      4\n",
       "188      4\n",
       "254      4\n",
       "418      4\n",
       "507      3\n",
       "435      3\n",
       "223      3\n",
       "477      3\n",
       "291      3\n",
       "404      3\n",
       "185      3\n",
       "79       3\n",
       "352      3\n",
       "150      3\n",
       "271      3\n",
       "74       3\n",
       "192      3\n",
       "366      3\n",
       "183      3\n",
       "297      3\n",
       "161      3\n",
       "387      3\n",
       "117      3\n",
       "312      3\n",
       "506      3\n",
       "134      3\n",
       "300      3\n",
       "128      3\n",
       "232      3\n",
       "439      3\n",
       "427      3\n",
       "299      3\n",
       "205      3\n",
       "379      3\n",
       "132      3\n",
       "289      3\n",
       "211      3\n",
       "241      3\n",
       "371      3\n",
       "231      3\n",
       "224      3\n",
       "269      3\n",
       "282      3\n",
       "66       3\n",
       "258      3\n",
       "125      3\n",
       "164      3\n",
       "331      3\n",
       "390      3\n",
       "487      3\n",
       "129      3\n",
       "326      3\n",
       "313      3\n",
       "304      3\n",
       "421      3\n",
       "491      3\n",
       "89       3\n",
       "160      3\n",
       "62       3\n",
       "279      3\n",
       "236      3\n",
       "151      3\n",
       "316      3\n",
       "293      2\n",
       "392      2\n",
       "309      2\n",
       "508      2\n",
       "195      2\n",
       "423      2\n",
       "126      2\n",
       "242      2\n",
       "410      2\n",
       "233      2\n",
       "220      2\n",
       "263      2\n",
       "468      2\n",
       "302      2\n",
       "440      2\n",
       "101      2\n",
       "398      2\n",
       "485      2\n",
       "286      2\n",
       "359      2\n",
       "178      2\n",
       "463      2\n",
       "98       2\n",
       "470      2\n",
       "156      2\n",
       "200      2\n",
       "500      2\n",
       "382      2\n",
       "65       2\n",
       "238      2\n",
       "467      2\n",
       "59       2\n",
       "199      2\n",
       "136      2\n",
       "406      2\n",
       "84       2\n",
       "287      2\n",
       "109      2\n",
       "330      2\n",
       "142      2\n",
       "360      2\n",
       "169      2\n",
       "386      2\n",
       "484      2\n",
       "264      2\n",
       "247      2\n",
       "290      2\n",
       "190      2\n",
       "173      2\n",
       "393      2\n",
       "221      2\n",
       "305      1\n",
       "105      1\n",
       "184      1\n",
       "340      1\n",
       "503      1\n",
       "332      1\n",
       "415      1\n",
       "476      1\n",
       "344      1\n",
       "181      1\n",
       "497      1\n",
       "448      1\n",
       "218      1\n",
       "226      1\n",
       "403      1\n",
       "504      1\n",
       "430      1\n",
       "314      1\n",
       "274      1\n",
       "489      1\n",
       "461      1\n",
       "133      1\n",
       "176      1\n",
       "294      1\n",
       "124      1\n",
       "432      1\n",
       "179      1\n",
       "433      1\n",
       "203      1\n",
       "437      1\n",
       "372      1\n",
       "501      1\n",
       "488      1\n",
       "285      1\n",
       "486      1\n",
       "137      1\n",
       "158      1\n",
       "419      1\n",
       "48       1\n",
       "388      1\n",
       "377      1\n",
       "308      1\n",
       "394      1\n",
       "261      1\n",
       "462      1\n",
       "338      1\n",
       "228      1\n",
       "438      1\n",
       "Name: token_lens, dtype: int64"
      ]
     },
     "execution_count": 36,
     "metadata": {},
     "output_type": "execute_result"
    }
   ],
   "source": [
    "train_data['token_lens'].value_counts()"
   ]
  },
  {
   "attachments": {},
   "cell_type": "markdown",
   "metadata": {},
   "source": [
    "EN LOS ARTICULOS LA INFORMACIÓN MÁS RELEVANTE SIEMPLE ESTA EN EL TITULO, EN EL HEADLINE O AL INICIO DEL ARTICULO EN SI, POR ESO CONSIDERAMOS LA OPCIÓN DE TOKENIZAR POR UN MAXIMO DE 512 Y TODO LO OTRO HACER TRUNCACION Y ELIMINARLO"
   ]
  },
  {
   "cell_type": "code",
   "execution_count": 37,
   "metadata": {},
   "outputs": [],
   "source": [
    "MAX_LEN = 250"
   ]
  },
  {
   "cell_type": "code",
   "execution_count": 38,
   "metadata": {},
   "outputs": [],
   "source": [
    "def tokenize(data,max_len=MAX_LEN) :\n",
    "    input_ids = []\n",
    "    attention_masks = []\n",
    "    for i in range(len(data)):\n",
    "        encoded = tokenizer.encode_plus(\n",
    "            data[i],\n",
    "            add_special_tokens=True,\n",
    "            truncation=True,\n",
    "            max_length=MAX_LEN,\n",
    "            padding='max_length',\n",
    "            return_attention_mask=True\n",
    "        )\n",
    "        input_ids.append(encoded['input_ids'])\n",
    "        attention_masks.append(encoded['attention_mask'])\n",
    "    return np.array(input_ids),np.array(attention_masks)"
   ]
  },
  {
   "cell_type": "code",
   "execution_count": 39,
   "metadata": {},
   "outputs": [],
   "source": [
    "train_data.reset_index(drop=True, inplace=True)\n",
    "agr_test.reset_index(drop=True, inplace=True)"
   ]
  },
  {
   "cell_type": "code",
   "execution_count": 40,
   "metadata": {},
   "outputs": [],
   "source": [
    "train_input_ids, train_attention_masks = tokenize(train_data['text'], MAX_LEN)\n",
    "test_input_ids, test_attention_masks = tokenize(agr_test['text'], MAX_LEN)"
   ]
  },
  {
   "attachments": {},
   "cell_type": "markdown",
   "metadata": {},
   "source": [
    "# BERT Modeling"
   ]
  },
  {
   "cell_type": "code",
   "execution_count": 41,
   "metadata": {},
   "outputs": [
    {
     "name": "stderr",
     "output_type": "stream",
     "text": [
      "Some layers from the model checkpoint at dccuchile/bert-base-spanish-wwm-uncased were not used when initializing TFBertModel: ['mlm___cls']\n",
      "- This IS expected if you are initializing TFBertModel from the checkpoint of a model trained on another task or with another architecture (e.g. initializing a BertForSequenceClassification model from a BertForPreTraining model).\n",
      "- This IS NOT expected if you are initializing TFBertModel from the checkpoint of a model that you expect to be exactly identical (initializing a BertForSequenceClassification model from a BertForSequenceClassification model).\n",
      "Some layers of TFBertModel were not initialized from the model checkpoint at dccuchile/bert-base-spanish-wwm-uncased and are newly initialized: ['bert/pooler/dense/bias:0', 'bert/pooler/dense/kernel:0']\n",
      "You should probably TRAIN this model on a down-stream task to be able to use it for predictions and inference.\n"
     ]
    }
   ],
   "source": [
    "bert_model = TFBertModel.from_pretrained('dccuchile/bert-base-spanish-wwm-uncased')"
   ]
  },
  {
   "cell_type": "code",
   "execution_count": 42,
   "metadata": {},
   "outputs": [],
   "source": [
    "def create_model(bert_model, max_len=MAX_LEN):\n",
    "    ##params###\n",
    "    opt = tf.keras.optimizers.Adam(learning_rate=1e-5)\n",
    "    loss = tf.keras.losses.CategoricalCrossentropy()\n",
    "    accuracy = tf.keras.metrics.CategoricalAccuracy()\n",
    "\n",
    "    input_ids = tf.keras.Input(shape=(max_len,),dtype='int32')\n",
    "    attention_masks = tf.keras.Input(shape=(max_len,),dtype='int32')\n",
    "    embeddings = bert_model([input_ids,attention_masks])[1]\n",
    "    output = tf.keras.layers.Dense(3, activation=\"softmax\")(embeddings)\n",
    "    model = tf.keras.models.Model(inputs = [input_ids,attention_masks], outputs = output)\n",
    "    model.compile(opt, loss=loss, metrics=accuracy)\n",
    "    \n",
    "    return model"
   ]
  },
  {
   "cell_type": "code",
   "execution_count": 43,
   "metadata": {},
   "outputs": [
    {
     "name": "stdout",
     "output_type": "stream",
     "text": [
      "Model: \"model\"\n",
      "__________________________________________________________________________________________________\n",
      " Layer (type)                   Output Shape         Param #     Connected to                     \n",
      "==================================================================================================\n",
      " input_1 (InputLayer)           [(None, 250)]        0           []                               \n",
      "                                                                                                  \n",
      " input_2 (InputLayer)           [(None, 250)]        0           []                               \n",
      "                                                                                                  \n",
      " tf_bert_model (TFBertModel)    TFBaseModelOutputWi  109850880   ['input_1[0][0]',                \n",
      "                                thPoolingAndCrossAt               'input_2[0][0]']                \n",
      "                                tentions(last_hidde                                               \n",
      "                                n_state=(None, 250,                                               \n",
      "                                 768),                                                            \n",
      "                                 pooler_output=(Non                                               \n",
      "                                e, 768),                                                          \n",
      "                                 past_key_values=No                                               \n",
      "                                ne, hidden_states=N                                               \n",
      "                                one, attentions=Non                                               \n",
      "                                e, cross_attentions                                               \n",
      "                                =None)                                                            \n",
      "                                                                                                  \n",
      " dense (Dense)                  (None, 3)            2307        ['tf_bert_model[0][1]']          \n",
      "                                                                                                  \n",
      "==================================================================================================\n",
      "Total params: 109,853,187\n",
      "Trainable params: 109,853,187\n",
      "Non-trainable params: 0\n",
      "__________________________________________________________________________________________________\n"
     ]
    }
   ],
   "source": [
    "model = create_model(bert_model, MAX_LEN)\n",
    "model.summary()"
   ]
  },
  {
   "cell_type": "code",
   "execution_count": 44,
   "metadata": {},
   "outputs": [
    {
     "name": "stdout",
     "output_type": "stream",
     "text": [
      "Epoch 1/4\n",
      "88/88 [==============================] - 4490s 51s/step - loss: 1.0886 - categorical_accuracy: 0.4257\n",
      "Epoch 2/4\n",
      "88/88 [==============================] - 4477s 51s/step - loss: 0.9623 - categorical_accuracy: 0.5614\n",
      "Epoch 3/4\n",
      "88/88 [==============================] - 4522s 51s/step - loss: 0.9034 - categorical_accuracy: 0.5836\n",
      "Epoch 4/4\n",
      "88/88 [==============================] - 4508s 51s/step - loss: 0.8255 - categorical_accuracy: 0.6429\n"
     ]
    },
    {
     "data": {
      "text/plain": [
       "<keras.callbacks.History at 0x16e5ccca0>"
      ]
     },
     "execution_count": 44,
     "metadata": {},
     "output_type": "execute_result"
    }
   ],
   "source": [
    "model.fit([train_input_ids,train_attention_masks], y_train_ohe, epochs=4, batch_size=16)  "
   ]
  },
  {
   "cell_type": "code",
   "execution_count": 45,
   "metadata": {},
   "outputs": [
    {
     "name": "stdout",
     "output_type": "stream",
     "text": [
      "6/6 [==============================] - 132s 21s/step\n"
     ]
    }
   ],
   "source": [
    "result_bert = model.predict([test_input_ids,test_attention_masks])"
   ]
  },
  {
   "cell_type": "code",
   "execution_count": 46,
   "metadata": {},
   "outputs": [],
   "source": [
    "y_pred_bert = np.zeros_like(result_bert)\n",
    "y_pred_bert[np.arange(len(y_pred_bert)), result_bert.argmax(1)] = 1\n",
    "result_berttt = pd.DataFrame(result_bert)\n",
    "result_berttt.to_csv('result_bert_arg.csv')\n",
    "y_pred_bertberttt = pd.DataFrame(y_pred_bert)\n",
    "y_pred_bertberttt.to_csv('y_pred_bert_arg.csv')"
   ]
  },
  {
   "attachments": {},
   "cell_type": "markdown",
   "metadata": {},
   "source": [
    "### BERT Results"
   ]
  },
  {
   "cell_type": "code",
   "execution_count": 62,
   "metadata": {},
   "outputs": [
    {
     "data": {
      "image/png": "[encoded data removed]",
      "text/plain": [
       "<Figure size 640x480 with 2 Axes>"
      ]
     },
     "metadata": {},
     "output_type": "display_data"
    }
   ],
   "source": [
    "import seaborn as sns\n",
    "import matplotlib.pyplot as plt\n",
    "from sklearn.metrics import confusion_matrix\n",
    "\n",
    "# Obtén la matriz de confusión\n",
    "cm = confusion_matrix(y_test_ohe.argmax(axis=1), y_pred_bert.argmax(axis=1))\n",
    "\n",
    "# Define las etiquetas de las clases\n",
    "labels = ['Individual', 'Grupal', 'Otros']\n",
    "\n",
    "# Crea el mapa de calor utilizando seaborn\n",
    "sns.heatmap(cm, annot=True, cmap='Blues', fmt='d', xticklabels=labels, yticklabels=labels)\n",
    "\n",
    "# Configura las etiquetas de los ejes y el título\n",
    "plt.xlabel('Predicciones')\n",
    "plt.ylabel('Valores verdaderos')\n",
    "plt.title('Matriz de confusión')\n",
    "\n",
    "# Muestra el mapa de calor\n",
    "plt.show()\n"
   ]
  },
  {
   "cell_type": "code",
   "execution_count": 63,
   "metadata": {},
   "outputs": [
    {
     "name": "stdout",
     "output_type": "stream",
     "text": [
      "\tClassification Report for BERT:\n",
      "\n",
      "               precision    recall  f1-score   support\n",
      "\n",
      "  Individual       0.86      0.93      0.89       109\n",
      "      Grupal       0.88      0.78      0.83        37\n",
      "       Otros       0.70      0.61      0.66        31\n",
      "\n",
      "   micro avg       0.84      0.84      0.84       177\n",
      "   macro avg       0.82      0.77      0.79       177\n",
      "weighted avg       0.84      0.84      0.84       177\n",
      " samples avg       0.84      0.84      0.84       177\n",
      "\n"
     ]
    }
   ],
   "source": [
    "print('\\tClassification Report for BERT:\\n\\n',classification_report(y_test_ohe,y_pred_bert, target_names=['Individual', 'Grupal', 'Otros']))"
   ]
  },
  {
   "attachments": {},
   "cell_type": "markdown",
   "metadata": {},
   "source": [
    "Con base en la matriz de confusión y el informe de clasificación proporcionados, podemos obtener las siguientes conclusiones:\n",
    "\n",
    "1. Precisión (Precision): La precisión de la clase 0 (Class 0) es del 81%, lo que significa que el 81% de las muestras clasificadas como clase 0 son realmente de esa clase. La precisión de las clases 1 (Class 1), 2 (Class 2) y 3 (Class 3) es del 73%, 100% y 80% respectivamente.\n",
    "\n",
    "2. Sensibilidad o Tasa de Verdaderos Positivos (Recall o True Positive Rate): La sensibilidad de la clase 0 es del 93%, lo que indica que el 93% de las muestras verdaderamente pertenecientes a la clase 0 se clasificaron correctamente. La sensibilidad de las clases 1, 2 y 3 es del 80%, 77% y 57% respectivamente.\n",
    "\n",
    "3. Valor F1 (F1-Score): El valor F1 de la clase 0 es del 86%, lo que combina la precisión y la sensibilidad en una medida única. Los valores F1 de las clases 1, 2 y 3 son del 76%, 87% y 67% respectivamente.\n",
    "\n",
    "4. Exactitud (Accuracy): La exactitud general del modelo es del 84%, lo que indica que el 84% de las muestras se clasificaron correctamente en general.\n",
    "\n",
    "5. La matriz de confusión muestra la distribución de las clasificaciones correctas e incorrectas en cada clase. Por ejemplo, la clase 0 tiene 38 muestras clasificadas correctamente, 2 muestras clasificadas incorrectamente como clase 1, 0 muestras clasificadas incorrectamente como clase 2 y 1 muestra clasificada incorrectamente como clase 3.\n",
    "\n",
    "En resumen, se puede concluir que el modelo BERT tiene un rendimiento razonablemente bueno, con altas precisiones y sensibilidades en la mayoría de las clases. Sin embargo, la clase 3 muestra una sensibilidad más baja, lo que indica que el modelo tiene dificultades para detectar correctamente las muestras de esa clase. Esto se refuerza por el valor F1 más bajo de la clase 3 en comparación con las otras clases. Es importante evaluar el rendimiento del modelo en función de los objetivos y requisitos específicos del problema en cuestión."
   ]
  },
  {
   "cell_type": "code",
   "execution_count": 49,
   "metadata": {},
   "outputs": [
    {
     "data": {
      "image/png": "[encoded data removed]",
      "text/plain": [
       "<Figure size 640x480 with 1 Axes>"
      ]
     },
     "metadata": {},
     "output_type": "display_data"
    }
   ],
   "source": [
    "import numpy as np\n",
    "import matplotlib.pyplot as plt\n",
    "from sklearn.metrics import roc_curve, auc\n",
    "\n",
    "def macro_roc_curve(y_true, y_scores):\n",
    "    # Calcula la curva ROC y el área bajo la curva (AUC) para cada clase\n",
    "    fpr = dict()\n",
    "    tpr = dict()\n",
    "    roc_auc = dict()\n",
    "    n_classes = y_scores.shape[1]\n",
    "\n",
    "    for i in range(n_classes):\n",
    "        fpr[i], tpr[i], _ = roc_curve(y_true[:, i], y_scores[:, i])\n",
    "        roc_auc[i] = auc(fpr[i], tpr[i])\n",
    "\n",
    "    # Calcula el promedio de los valores de TPR y FPR\n",
    "    all_fpr = np.unique(np.concatenate([fpr[i] for i in range(n_classes)]))\n",
    "    mean_tpr = np.zeros_like(all_fpr)\n",
    "    for i in range(n_classes):\n",
    "        mean_tpr += np.interp(all_fpr, fpr[i], tpr[i])\n",
    "    mean_tpr /= n_classes\n",
    "\n",
    "    # Calcula el promedio del AUC\n",
    "    mean_auc = np.mean(list(roc_auc.values()))\n",
    "\n",
    "    # Construye la curva ROC con los valores promediados\n",
    "    fpr[\"macro\"] = all_fpr\n",
    "    tpr[\"macro\"] = mean_tpr\n",
    "    roc_auc[\"macro\"] = mean_auc\n",
    "\n",
    "    return fpr, tpr, roc_auc\n",
    "\n",
    "# Ejemplo de uso\n",
    "# y_true: etiquetas verdaderas de forma (n_samples, n_classes)\n",
    "# y_scores: probabilidades de predicción de forma (n_samples, n_classes)\n",
    "y_true = y_test_ohe\n",
    "y_scores = result_bert\n",
    "fpr, tpr, roc_auc = macro_roc_curve(y_true, y_scores)\n",
    "\n",
    "# Visualiza la curva ROC promediada\n",
    "plt.figure()\n",
    "plt.plot(fpr[\"macro\"], tpr[\"macro\"], label='Macro-average ROC curve (AUC = {:.2f})'.format(roc_auc[\"macro\"]))\n",
    "plt.plot([0, 1], [0, 1], 'k--')  # Línea diagonal\n",
    "plt.xlabel('False Positive Rate')\n",
    "plt.ylabel('True Positive Rate')\n",
    "plt.title('Macro-average ROC Curve')\n",
    "plt.legend(loc='lower right')\n",
    "plt.show()\n"
   ]
  },
  {
   "cell_type": "code",
   "execution_count": 50,
   "metadata": {},
   "outputs": [],
   "source": [
    "def plot_roc_curves(y_true, y_scores):\n",
    "    # Calcula la curva ROC y el área bajo la curva (AUC) para cada clase\n",
    "    fpr = dict()\n",
    "    tpr = dict()\n",
    "    roc_auc = dict()\n",
    "    n_classes = y_scores.shape[1]\n",
    "\n",
    "    for i in range(n_classes):\n",
    "        fpr[i], tpr[i], _ = roc_curve(y_true[:, i], y_scores[:, i])\n",
    "        roc_auc[i] = auc(fpr[i], tpr[i])\n",
    "\n",
    "        # Construye y muestra la curva ROC para la clase i\n",
    "        plt.figure()\n",
    "        plt.plot(fpr[i], tpr[i], label='ROC curve of class {} (AUC = {:.2f})'.format(i, roc_auc[i]))\n",
    "        plt.plot([0, 1], [0, 1], 'k--')  # Línea diagonal\n",
    "        plt.xlabel('False Positive Rate')\n",
    "        plt.ylabel('True Positive Rate')\n",
    "        plt.title('ROC Curve - Class {}'.format(i))\n",
    "        plt.legend(loc='lower right')\n",
    "        plt.show()"
   ]
  },
  {
   "cell_type": "code",
   "execution_count": 51,
   "metadata": {},
   "outputs": [
    {
     "data": {
      "image/png": "[encoded data removed]",
      "text/plain": [
       "<Figure size 640x480 with 1 Axes>"
      ]
     },
     "metadata": {},
     "output_type": "display_data"
    },
    {
     "data": {
      "image/png": "[encoded data removed]",
      "text/plain": [
       "<Figure size 640x480 with 1 Axes>"
      ]
     },
     "metadata": {},
     "output_type": "display_data"
    },
    {
     "data": {
      "image/png": "[encoded data removed]",
      "text/plain": [
       "<Figure size 640x480 with 1 Axes>"
      ]
     },
     "metadata": {},
     "output_type": "display_data"
    }
   ],
   "source": [
    "y_true = y_test_ohe\n",
    "y_scores = result_bert\n",
    "plot_roc_curves(y_true, y_scores)"
   ]
  },
  {
   "attachments": {},
   "cell_type": "markdown",
   "metadata": {},
   "source": [
    "# Predict label all articles"
   ]
  },
  {
   "cell_type": "code",
   "execution_count": 54,
   "metadata": {},
   "outputs": [
    {
     "name": "stdout",
     "output_type": "stream",
     "text": [
      "468/468 [==============================] - 9908s 21s/step\n"
     ]
    }
   ],
   "source": [
    "# Preprocess unlabeled data\n",
    "articles_input_ids, articles_attention_masks = tokenize(articles_df['text'], MAX_LEN)\n",
    "\n",
    "# Predict labels for unlabeled data\n",
    "articles_predictions = model.predict([articles_input_ids, articles_attention_masks])"
   ]
  },
  {
   "cell_type": "code",
   "execution_count": 56,
   "metadata": {},
   "outputs": [],
   "source": [
    "#np.save('articles_predictions_agr', articles_predictions)"
   ]
  },
  {
   "cell_type": "code",
   "execution_count": 57,
   "metadata": {},
   "outputs": [],
   "source": [
    "#articles_predictions = np.load('articles_predictions_agr.npy')"
   ]
  },
  {
   "cell_type": "code",
   "execution_count": 55,
   "metadata": {},
   "outputs": [
    {
     "data": {
      "text/plain": [
       "array([[0.5353212 , 0.2148723 , 0.24980648],\n",
       "       [0.9057288 , 0.04032118, 0.05394997],\n",
       "       [0.35763916, 0.5651102 , 0.07725059],\n",
       "       ...,\n",
       "       [0.74869007, 0.0892756 , 0.1620342 ],\n",
       "       [0.73575836, 0.11051025, 0.15373126],\n",
       "       [0.7337715 , 0.15760326, 0.10862517]], dtype=float32)"
      ]
     },
     "execution_count": 55,
     "metadata": {},
     "output_type": "execute_result"
    }
   ],
   "source": [
    "articles_predictions"
   ]
  },
  {
   "cell_type": "code",
   "execution_count": 64,
   "metadata": {},
   "outputs": [
    {
     "data": {
      "text/html": [
       "<div>\n",
       "<style scoped>\n",
       "    .dataframe tbody tr th:only-of-type {\n",
       "        vertical-align: middle;\n",
       "    }\n",
       "\n",
       "    .dataframe tbody tr th {\n",
       "        vertical-align: top;\n",
       "    }\n",
       "\n",
       "    .dataframe thead th {\n",
       "        text-align: right;\n",
       "    }\n",
       "</style>\n",
       "<table border=\"1\" class=\"dataframe\">\n",
       "  <thead>\n",
       "    <tr style=\"text-align: right;\">\n",
       "      <th></th>\n",
       "      <th>prob_individual</th>\n",
       "      <th>prob_grupal</th>\n",
       "      <th>prob_otros</th>\n",
       "      <th>label_predict</th>\n",
       "    </tr>\n",
       "  </thead>\n",
       "  <tbody>\n",
       "    <tr>\n",
       "      <th>0</th>\n",
       "      <td>0.535321</td>\n",
       "      <td>0.214872</td>\n",
       "      <td>0.249806</td>\n",
       "      <td>0</td>\n",
       "    </tr>\n",
       "    <tr>\n",
       "      <th>1</th>\n",
       "      <td>0.905729</td>\n",
       "      <td>0.040321</td>\n",
       "      <td>0.053950</td>\n",
       "      <td>0</td>\n",
       "    </tr>\n",
       "    <tr>\n",
       "      <th>2</th>\n",
       "      <td>0.357639</td>\n",
       "      <td>0.565110</td>\n",
       "      <td>0.077251</td>\n",
       "      <td>1</td>\n",
       "    </tr>\n",
       "    <tr>\n",
       "      <th>3</th>\n",
       "      <td>0.236147</td>\n",
       "      <td>0.033098</td>\n",
       "      <td>0.730755</td>\n",
       "      <td>2</td>\n",
       "    </tr>\n",
       "    <tr>\n",
       "      <th>4</th>\n",
       "      <td>0.864866</td>\n",
       "      <td>0.066744</td>\n",
       "      <td>0.068390</td>\n",
       "      <td>0</td>\n",
       "    </tr>\n",
       "  </tbody>\n",
       "</table>\n",
       "</div>"
      ],
      "text/plain": [
       "   prob_individual  prob_grupal  prob_otros  label_predict\n",
       "0         0.535321     0.214872    0.249806              0\n",
       "1         0.905729     0.040321    0.053950              0\n",
       "2         0.357639     0.565110    0.077251              1\n",
       "3         0.236147     0.033098    0.730755              2\n",
       "4         0.864866     0.066744    0.068390              0"
      ]
     },
     "execution_count": 64,
     "metadata": {},
     "output_type": "execute_result"
    }
   ],
   "source": [
    "articles_pred_df = pd.DataFrame(articles_predictions)\n",
    "articles_pred_df = articles_pred_df.rename(columns={0: 'prob_individual', 1: 'prob_grupal', 2: 'prob_otros'})\n",
    "articles_pred_df['label_predict'] = np.argmax(articles_pred_df.values, axis=1)\n",
    "articles_pred_df.head()"
   ]
  },
  {
   "cell_type": "code",
   "execution_count": 66,
   "metadata": {},
   "outputs": [
    {
     "data": {
      "text/html": [
       "<div>\n",
       "<style scoped>\n",
       "    .dataframe tbody tr th:only-of-type {\n",
       "        vertical-align: middle;\n",
       "    }\n",
       "\n",
       "    .dataframe tbody tr th {\n",
       "        vertical-align: top;\n",
       "    }\n",
       "\n",
       "    .dataframe thead th {\n",
       "        text-align: right;\n",
       "    }\n",
       "</style>\n",
       "<table border=\"1\" class=\"dataframe\">\n",
       "  <thead>\n",
       "    <tr style=\"text-align: right;\">\n",
       "      <th></th>\n",
       "      <th>tweet_id</th>\n",
       "      <th>media</th>\n",
       "      <th>title</th>\n",
       "      <th>headline</th>\n",
       "      <th>url</th>\n",
       "      <th>article</th>\n",
       "      <th>publication_date</th>\n",
       "      <th>text</th>\n",
       "      <th>prob_individual</th>\n",
       "      <th>prob_grupal</th>\n",
       "      <th>prob_otros</th>\n",
       "      <th>label_predict</th>\n",
       "    </tr>\n",
       "  </thead>\n",
       "  <tbody>\n",
       "    <tr>\n",
       "      <th>0</th>\n",
       "      <td>1212203735650328577</td>\n",
       "      <td>20m</td>\n",
       "      <td>name britanica detenida falso testimonio tras ...</td>\n",
       "      <td>name joven britanica 19 anos mes julio detenida</td>\n",
       "      <td>https://www.20minutos.es/noticia/4102525/0/cul...</td>\n",
       "      <td>name joven britanica 19 anos mes julio detenid...</td>\n",
       "      <td>2019-12-31</td>\n",
       "      <td>name britanica detenida falso testimonio tras ...</td>\n",
       "      <td>0.535321</td>\n",
       "      <td>0.214872</td>\n",
       "      <td>0.249806</td>\n",
       "      <td>0</td>\n",
       "    </tr>\n",
       "    <tr>\n",
       "      <th>1</th>\n",
       "      <td>1212467642428280832</td>\n",
       "      <td>20m</td>\n",
       "      <td>name parto nina 13 anos violada padre</td>\n",
       "      <td>name name nina brasilena 13 anos fallecio comi...</td>\n",
       "      <td>https://www.20minutos.es/noticia/4103250/0/mue...</td>\n",
       "      <td>name name nina brasilena 13 anos fallecio comi...</td>\n",
       "      <td>2020-01-01</td>\n",
       "      <td>name parto nina 13 anos violada padre name nam...</td>\n",
       "      <td>0.905729</td>\n",
       "      <td>0.040321</td>\n",
       "      <td>0.053950</td>\n",
       "      <td>0</td>\n",
       "    </tr>\n",
       "    <tr>\n",
       "      <th>2</th>\n",
       "      <td>1212826760234127360</td>\n",
       "      <td>20m</td>\n",
       "      <td>name 3 jovenes acusados violar 3 hermanas esta...</td>\n",
       "      <td>name name name detenido jueves tres jovenes ac...</td>\n",
       "      <td>https://www.20minutos.es/noticia/4104199/0/det...</td>\n",
       "      <td>name name name detenido jueves tres jovenes ac...</td>\n",
       "      <td>2020-01-02</td>\n",
       "      <td>name 3 jovenes acusados violar 3 hermanas esta...</td>\n",
       "      <td>0.357639</td>\n",
       "      <td>0.565110</td>\n",
       "      <td>0.077251</td>\n",
       "      <td>1</td>\n",
       "    </tr>\n",
       "    <tr>\n",
       "      <th>3</th>\n",
       "      <td>1213232973715267584</td>\n",
       "      <td>20m</td>\n",
       "      <td>name claves name juicio name name abusos sexua...</td>\n",
       "      <td>name juicio supuestos abusos sexuales todopode...</td>\n",
       "      <td>https://www.20minutos.es/noticia/4105188/0/cla...</td>\n",
       "      <td>name juicio supuestos abusos sexuales todopode...</td>\n",
       "      <td>2020-01-03</td>\n",
       "      <td>name claves name juicio name name abusos sexua...</td>\n",
       "      <td>0.236147</td>\n",
       "      <td>0.033098</td>\n",
       "      <td>0.730755</td>\n",
       "      <td>2</td>\n",
       "    </tr>\n",
       "    <tr>\n",
       "      <th>4</th>\n",
       "      <td>1213348259076415488</td>\n",
       "      <td>20m</td>\n",
       "      <td>name name name investiga escritor frances name...</td>\n",
       "      <td>name name name abierto viernes investigacion e...</td>\n",
       "      <td>https://www.20minutos.es/noticia/4104916/0/fra...</td>\n",
       "      <td>name name name abierto viernes investigacion e...</td>\n",
       "      <td>2020-01-03</td>\n",
       "      <td>name name name investiga escritor frances name...</td>\n",
       "      <td>0.864866</td>\n",
       "      <td>0.066744</td>\n",
       "      <td>0.068390</td>\n",
       "      <td>0</td>\n",
       "    </tr>\n",
       "  </tbody>\n",
       "</table>\n",
       "</div>"
      ],
      "text/plain": [
       "              tweet_id media  \\\n",
       "0  1212203735650328577   20m   \n",
       "1  1212467642428280832   20m   \n",
       "2  1212826760234127360   20m   \n",
       "3  1213232973715267584   20m   \n",
       "4  1213348259076415488   20m   \n",
       "\n",
       "                                               title  \\\n",
       "0  name britanica detenida falso testimonio tras ...   \n",
       "1              name parto nina 13 anos violada padre   \n",
       "2  name 3 jovenes acusados violar 3 hermanas esta...   \n",
       "3  name claves name juicio name name abusos sexua...   \n",
       "4  name name name investiga escritor frances name...   \n",
       "\n",
       "                                            headline  \\\n",
       "0    name joven britanica 19 anos mes julio detenida   \n",
       "1  name name nina brasilena 13 anos fallecio comi...   \n",
       "2  name name name detenido jueves tres jovenes ac...   \n",
       "3  name juicio supuestos abusos sexuales todopode...   \n",
       "4  name name name abierto viernes investigacion e...   \n",
       "\n",
       "                                                 url  \\\n",
       "0  https://www.20minutos.es/noticia/4102525/0/cul...   \n",
       "1  https://www.20minutos.es/noticia/4103250/0/mue...   \n",
       "2  https://www.20minutos.es/noticia/4104199/0/det...   \n",
       "3  https://www.20minutos.es/noticia/4105188/0/cla...   \n",
       "4  https://www.20minutos.es/noticia/4104916/0/fra...   \n",
       "\n",
       "                                             article publication_date  \\\n",
       "0  name joven britanica 19 anos mes julio detenid...       2019-12-31   \n",
       "1  name name nina brasilena 13 anos fallecio comi...       2020-01-01   \n",
       "2  name name name detenido jueves tres jovenes ac...       2020-01-02   \n",
       "3  name juicio supuestos abusos sexuales todopode...       2020-01-03   \n",
       "4  name name name abierto viernes investigacion e...       2020-01-03   \n",
       "\n",
       "                                                text  prob_individual  \\\n",
       "0  name britanica detenida falso testimonio tras ...         0.535321   \n",
       "1  name parto nina 13 anos violada padre name nam...         0.905729   \n",
       "2  name 3 jovenes acusados violar 3 hermanas esta...         0.357639   \n",
       "3  name claves name juicio name name abusos sexua...         0.236147   \n",
       "4  name name name investiga escritor frances name...         0.864866   \n",
       "\n",
       "   prob_grupal  prob_otros  label_predict  \n",
       "0     0.214872    0.249806              0  \n",
       "1     0.040321    0.053950              0  \n",
       "2     0.565110    0.077251              1  \n",
       "3     0.033098    0.730755              2  \n",
       "4     0.066744    0.068390              0  "
      ]
     },
     "execution_count": 66,
     "metadata": {},
     "output_type": "execute_result"
    }
   ],
   "source": [
    "concatenated_df = pd.concat([articles_df, articles_pred_df], axis=1)\n",
    "concatenated_df.head()"
   ]
  },
  {
   "cell_type": "code",
   "execution_count": 67,
   "metadata": {},
   "outputs": [
    {
     "data": {
      "text/plain": [
       "0    9202\n",
       "2    4102\n",
       "1    1657\n",
       "Name: label_predict, dtype: int64"
      ]
     },
     "execution_count": 67,
     "metadata": {},
     "output_type": "execute_result"
    }
   ],
   "source": [
    "concatenated_df['label_predict'].value_counts()"
   ]
  },
  {
   "cell_type": "code",
   "execution_count": 70,
   "metadata": {},
   "outputs": [],
   "source": [
    "#concatenated_df.to_csv('articles_num_agr_proba.csv')"
   ]
  },
  {
   "cell_type": "code",
   "execution_count": 163,
   "metadata": {},
   "outputs": [],
   "source": [
    "import pandas as pd\n",
    "\n",
    "marta = pd.read_csv('articles_rel_proba.csv', index_col=0)\n",
    "desc = marta[marta['label_predict'] == 0]\n",
    "parella = marta[marta['label_predict'] == 1]\n",
    "fam = marta[marta['label_predict'] == 2]\n",
    "con = marta[marta['label_predict'] == 3]\n",
    "\n",
    "id_0 = desc[['tweet_id']]\n",
    "id_1 = parella[['tweet_id']]\n",
    "id_2 = fam[['tweet_id']]\n",
    "id_3 = con[['tweet_id']]\n",
    "\n",
    "clusters = pd.read_csv('../data/cases_conected_df_85.csv')"
   ]
  },
  {
   "cell_type": "code",
   "execution_count": 179,
   "metadata": {},
   "outputs": [
    {
     "name": "stderr",
     "output_type": "stream",
     "text": [
      "/var/folders/8y/kdv5k1ks43v38hl9433hbqsr0000gn/T/ipykernel_2090/1604639157.py:15: SettingWithCopyWarning: \n",
      "A value is trying to be set on a copy of a slice from a DataFrame.\n",
      "Try using .loc[row_indexer,col_indexer] = value instead\n",
      "\n",
      "See the caveats in the documentation: https://pandas.pydata.org/pandas-docs/stable/user_guide/indexing.html#returning-a-view-versus-a-copy\n",
      "  df_tweet_id['tweet_id'] = df_tweet_id['tweet_id'].astype(int)\n",
      "/var/folders/8y/kdv5k1ks43v38hl9433hbqsr0000gn/T/ipykernel_2090/1604639157.py:15: SettingWithCopyWarning: \n",
      "A value is trying to be set on a copy of a slice from a DataFrame.\n",
      "Try using .loc[row_indexer,col_indexer] = value instead\n",
      "\n",
      "See the caveats in the documentation: https://pandas.pydata.org/pandas-docs/stable/user_guide/indexing.html#returning-a-view-versus-a-copy\n",
      "  df_tweet_id['tweet_id'] = df_tweet_id['tweet_id'].astype(int)\n",
      "/var/folders/8y/kdv5k1ks43v38hl9433hbqsr0000gn/T/ipykernel_2090/1604639157.py:15: SettingWithCopyWarning: \n",
      "A value is trying to be set on a copy of a slice from a DataFrame.\n",
      "Try using .loc[row_indexer,col_indexer] = value instead\n",
      "\n",
      "See the caveats in the documentation: https://pandas.pydata.org/pandas-docs/stable/user_guide/indexing.html#returning-a-view-versus-a-copy\n",
      "  df_tweet_id['tweet_id'] = df_tweet_id['tweet_id'].astype(int)\n",
      "/var/folders/8y/kdv5k1ks43v38hl9433hbqsr0000gn/T/ipykernel_2090/1604639157.py:15: SettingWithCopyWarning: \n",
      "A value is trying to be set on a copy of a slice from a DataFrame.\n",
      "Try using .loc[row_indexer,col_indexer] = value instead\n",
      "\n",
      "See the caveats in the documentation: https://pandas.pydata.org/pandas-docs/stable/user_guide/indexing.html#returning-a-view-versus-a-copy\n",
      "  df_tweet_id['tweet_id'] = df_tweet_id['tweet_id'].astype(int)\n"
     ]
    }
   ],
   "source": [
    "def func(id, clusters):\n",
    "    # DataFrame con los tweet_id\n",
    "    df_tweet_id = id\n",
    "\n",
    "    # DataFrame con los cluster_id y tweet_id\n",
    "    df_clusters = clusters\n",
    "\n",
    "    # Crear un nuevo dataframe con los cluster_id y tweet_id expandidos\n",
    "    df_clusters['tweet_id'] = df_clusters['tweet_id'].apply(lambda x: [int(i) for i in x])\n",
    "    df_clusters['cluster_id'] = df_clusters['cluster_id'].fillna(0).astype(int)\n",
    "\n",
    "    expanded_clusters = df_clusters.explode('tweet_id')\n",
    "\n",
    "    # Convertir la columna tweet_id en ambos dataframes a tipo int64\n",
    "    df_tweet_id['tweet_id'] = df_tweet_id['tweet_id'].astype(int)\n",
    "    expanded_clusters['tweet_id'] = expanded_clusters['tweet_id'].astype(int)\n",
    "\n",
    "    # Realizar un merge utilizando pd.merge para combinar los dataframes\n",
    "    df_merged = pd.merge(df_tweet_id, expanded_clusters, on='tweet_id', how='left')\n",
    "\n",
    "    # Agrupar los cluster_id correspondientes a cada tweet_id en una lista\n",
    "    grouped_clusters = df_merged.groupby('tweet_id')['cluster_id'].apply(list).reset_index()\n",
    "\n",
    "    # Obtener los cluster_id correspondientes a cada tweet_id\n",
    "    cluster_ids = grouped_clusters['cluster_id']\n",
    "    cluster_ids = cluster_ids.apply(lambda x: str(x[0]) if len(x) > 0 else '-1')\n",
    "    cluster_ids = cluster_ids.fillna('0')\n",
    "\n",
    "    # Imprimir los cluster_id\n",
    "    return cluster_ids\n",
    "\n",
    "cluster_ids_0 = func(id_0, clusters)\n",
    "cluster_ids_1 = func(id_1, clusters)\n",
    "cluster_ids_2 = func(id_2, clusters)\n",
    "cluster_ids_3 = func(id_3, clusters)\n"
   ]
  },
  {
   "cell_type": "code",
   "execution_count": 181,
   "metadata": {},
   "outputs": [
    {
     "data": {
      "image/png": "[encoded data removed]",
      "text/plain": [
       "<Figure size 640x480 with 1 Axes>"
      ]
     },
     "metadata": {},
     "output_type": "display_data"
    }
   ],
   "source": [
    "\n",
    "# Calcular el conteo de ocurrencias de cada cluster\n",
    "cluster_counts_0 = cluster_ids_0.value_counts()\n",
    "cluster_counts_1 = cluster_ids_1.value_counts()\n",
    "cluster_counts_2 = cluster_ids_2.value_counts()\n",
    "cluster_counts_3 = cluster_ids_3.value_counts()\n",
    "\n",
    "# Contar la cantidad de clusters en cada caso\n",
    "case1_0 = (cluster_counts_0 == 1).sum()\n",
    "case2_0 = ((cluster_counts_0 >= 2) & (cluster_counts_0 <= 3)).sum()\n",
    "case3_0 = (cluster_counts_0 >= 3).sum()\n",
    "\n",
    "case1_1 = (cluster_counts_1 == 1).sum()\n",
    "case2_1 = ((cluster_counts_1 >= 2) & (cluster_counts_1 <= 3)).sum()\n",
    "case3_1 = (cluster_counts_1 >= 3).sum()\n",
    "\n",
    "case1_2 = (cluster_counts_2 == 1).sum()\n",
    "case2_2 = ((cluster_counts_2 >= 2) & (cluster_counts_2 <= 3)).sum()\n",
    "case3_2 = (cluster_counts_2 >= 3).sum()\n",
    "\n",
    "case1_3 = (cluster_counts_3 == 1).sum()\n",
    "case2_3 = ((cluster_counts_3 >= 2) & (cluster_counts_3 <= 3)).sum()\n",
    "case3_3 = (cluster_counts_3 >= 3).sum()\n",
    "\n",
    "\n",
    "# Crear un DataFrame con los casos y sus cantidades\n",
    "data = pd.DataFrame({'Opciones': ['Baixa: 1 article', 'Mitjana: 2 o 3 articles', 'Alta: més de 3 articles'],\n",
    "                     'Desconegut': [case1_0, case2_0, case3_0],\n",
    "                     'Conegut': [case1_3, case2_3, case3_3],\n",
    "                     'Familiar': [case1_2, case2_2, case3_2],\n",
    "                     '(Ex)Parella': [case1_1, case2_1, case3_1]})\n",
    "\n",
    "# Convertir los datos a formato \"largo\" (long format)\n",
    "data = data.melt(id_vars='Opciones',var_name='Tipo de relació', value_name='Número de casos')\n",
    "\n",
    "# Crear el gráfico de barras con Seaborn\n",
    "sns.barplot(x='Opciones', y='Número de casos',hue='Tipo de relació', data=data, palette='pastel')\n",
    "\n",
    "# Configurar los títulos y etiquetas de los ejes\n",
    "plt.title(\"Cobertura del tipus de relació victima-agressor segons el tamany del cluster\")\n",
    "plt.xlabel('Representació')\n",
    "plt.ylabel('Número de casos')\n",
    "\n",
    "# Mostrar el gráfico\n",
    "plt.show()\n"
   ]
  },
  {
   "cell_type": "code",
   "execution_count": null,
   "metadata": {},
   "outputs": [],
   "source": []
  },
  {
   "cell_type": "code",
   "execution_count": null,
   "metadata": {},
   "outputs": [],
   "source": []
  },
  {
   "cell_type": "code",
   "execution_count": null,
   "metadata": {},
   "outputs": [],
   "source": []
  },
  {
   "cell_type": "code",
   "execution_count": null,
   "metadata": {},
   "outputs": [],
   "source": []
  },
  {
   "cell_type": "code",
   "execution_count": null,
   "metadata": {},
   "outputs": [],
   "source": []
  }
 ],
 "metadata": {
  "kernelspec": {
   "display_name": ".venv",
   "language": "python",
   "name": "python3"
  },
  "language_info": {
   "codemirror_mode": {
    "name": "ipython",
    "version": 3
   },
   "file_extension": ".py",
   "mimetype": "text/x-python",
   "name": "python",
   "nbconvert_exporter": "python",
   "pygments_lexer": "ipython3",
   "version": "3.9.6"
  },
  "orig_nbformat": 4
 },
 "nbformat": 4,
 "nbformat_minor": 2
}
